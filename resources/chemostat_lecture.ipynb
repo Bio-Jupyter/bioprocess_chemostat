{
 "cells": [
  {
   "cell_type": "code",
   "execution_count": null,
   "id": "e558acb0-6154-4eb4-b230-d78302475f37",
   "metadata": {},
   "outputs": [],
   "source": [
    "from IPython.display import YouTubeVideo\n",
    "\n",
    "# Create a YouTube video object with specified width\n",
    "videoP = YouTubeVideo(\"poUzTlCHRJQ\", width=600)\n",
    "\n",
    "# Display the video\n",
    "display(videoP)"
   ]
  }
 ],
 "metadata": {
  "kernelspec": {
   "display_name": "Python 3 (ipykernel)",
   "language": "python",
   "name": "python3"
  },
  "language_info": {
   "codemirror_mode": {
    "name": "ipython",
    "version": 3
   },
   "file_extension": ".py",
   "mimetype": "text/x-python",
   "name": "python",
   "nbconvert_exporter": "python",
   "pygments_lexer": "ipython3",
   "version": "3.11.6"
  }
 },
 "nbformat": 4,
 "nbformat_minor": 5
}

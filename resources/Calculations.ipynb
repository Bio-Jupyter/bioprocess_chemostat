{
 "cells": [
  {
   "cell_type": "code",
   "execution_count": 1,
   "id": "c949cfb9-95ea-4ecb-8963-8a41ea957566",
   "metadata": {},
   "outputs": [],
   "source": [
    "import matplotlib.pyplot as plt\n",
    "import matplotlib.patches as mpatches\n",
    "import numpy as np\n",
    "import ipywidgets\n",
    "from ipywidgets import interact, FloatSlider\n",
    "import math\n",
    "# %run IndFermSim_functions.ipynb"
   ]
  },
  {
   "cell_type": "code",
   "execution_count": 2,
   "id": "41cc2662-8f85-4f5a-8b0b-a9db2f069f87",
   "metadata": {},
   "outputs": [],
   "source": [
    "def get_float_input(prompt):\n",
    "    while True:\n",
    "        try:\n",
    "            value = float(input(prompt))\n",
    "            return value\n",
    "        except ValueError:\n",
    "            print(\"Invalid input: please enter a numeric value.\")"
   ]
  },
  {
   "cell_type": "code",
   "execution_count": 3,
   "id": "ac8695b2-cf05-4f5b-a62d-cfdab7d86f0f",
   "metadata": {},
   "outputs": [],
   "source": [
    "def set_ylim(Y_xs1, Y_xs2, s_in1, s_in2, s1, s2):\n",
    "    if Y_xs1 > Y_xs2:\n",
    "        if s_in1 > s_in2:\n",
    "            plt.ylim([-0.05 ,Y_xs1 * ( s_in1 - s1[0]+ 3)])\n",
    "        else:\n",
    "             plt.ylim([-0.05 ,Y_xs1 * ( s_in2 - s2[0]+ 3)])   \n",
    "    else:\n",
    "        if s_in1 > s_in2:\n",
    "            plt.ylim([-0.05 ,Y_xs2 * ( s_in1 - s1[0]+ 3)])\n",
    "        else:\n",
    "             plt.ylim([-0.05 ,Y_xs2 * ( s_in2 - s2[0]+ 3)]) "
   ]
  },
  {
   "cell_type": "code",
   "execution_count": 4,
   "id": "cfb5e779-119c-477d-9cbf-a4187cfe0694",
   "metadata": {},
   "outputs": [
    {
     "data": {
      "application/vnd.jupyter.widget-view+json": {
       "model_id": "309df37c9ab94b2e93a1f64ffb85826c",
       "version_major": 2,
       "version_minor": 0
      },
      "text/plain": [
       "interactive(children=(FloatSlider(value=0.06, description='Y_xs', max=0.2, step=0.01), FloatSlider(value=0.3, …"
      ]
     },
     "metadata": {},
     "output_type": "display_data"
    }
   ],
   "source": [
    "K_s = 0.02\n",
    "Y_xs1 = 0.06\n",
    "mu_max1 = 0.3\n",
    "s_in1 = 12\n",
    "\n",
    "Dcrit1 = mu_max1 * (s_in1 / (K_s + s_in1))\n",
    "Dopt1 = mu_max1 * ( 1 - (math.sqrt( K_s / (K_s +s_in1))))\n",
    "D1 = np.linspace(0, Dcrit1, 1000)   # in 1/h\n",
    "\n",
    "s1 = K_s * (D1 / (mu_max1 - D1))\n",
    "x1 = Y_xs1 * ( s_in1 - s1)\n",
    "Dx1 = ( mu_max1 * (s1 / (K_s + s1))) * (Y_xs1 * ( s_in1 - s1))\n",
    "\n",
    "def plot_graph(Y_xs, mu_max,s_in):\n",
    "    \n",
    "    Dcrit = mu_max * (s_in / (K_s + s_in))\n",
    "    Dopt = mu_max * (1 - (math.sqrt(K_s / (K_s + s_in))))\n",
    "    D = np.linspace(0, Dcrit, 1000)   # in 1/h\n",
    "    \n",
    "    s = K_s * (D / (mu_max - D))  \n",
    "    x = Y_xs * (s_in - s) \n",
    "    Dx = (mu_max * (s / (K_s + s))) * x  # Updated this line to use the new 'x'\n",
    "    plt.figure(figsize=(10, 6))\n",
    "    \n",
    "    print (\"D optimal :\",Dopt)\n",
    "    print (\"Max Biomass Concentratin :\",max(x))\n",
    "    print (\"\\n\")\n",
    "    \n",
    "    plt.plot(D, s, label=\"Substrate Concentration 2\")\n",
    "    plt.plot(D, x, label=\"Biomass Concentration 2\")\n",
    "    plt.plot(D, Dx, label=\"Dx2\")\n",
    "    plt.plot(Dcrit, 0.0, marker='x')\n",
    "    plt.plot(Dopt, np.max(Dx), marker='o')\n",
    "\n",
    "    set_ylim(Y_xs1, Y_xs, s_in1, s_in, s1, s)\n",
    "\n",
    "    plt.legend()\n",
    "    plt.title(\"Continuous Process - Chemostat\")\n",
    "    plt.xlabel(\"D [h⁻¹]\")\n",
    "    plt.ylabel(\"s [gL⁻¹] , x [gL⁻¹], Dx [gL⁻¹h⁻¹]\")\n",
    "    plt.grid(True)\n",
    "    plt.show()\n",
    "\n",
    "interact(plot_graph,Y_xs=FloatSlider(value=0.06, min=0, max=0.2, step=0.01, description='Y_xs (g/g)'),\n",
    "                    mu_max=FloatSlider(value=0.3, min=0.1, max=0.5, step=0.01, description='µ_max (h^-1)'),\n",
    "                    s_in=FloatSlider(value=12, min=8, max=20, step=1, description='s_in (g/L)'));"
   ]
  }
 ],
 "metadata": {
  "kernelspec": {
   "display_name": "Python 3 (ipykernel)",
   "language": "python",
   "name": "python3"
  },
  "language_info": {
   "codemirror_mode": {
    "name": "ipython",
    "version": 3
   },
   "file_extension": ".py",
   "mimetype": "text/x-python",
   "name": "python",
   "nbconvert_exporter": "python",
   "pygments_lexer": "ipython3",
   "version": "3.11.6"
  }
 },
 "nbformat": 4,
 "nbformat_minor": 5
}

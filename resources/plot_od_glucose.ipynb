{
 "cells": [
  {
   "cell_type": "code",
   "execution_count": null,
   "id": "21c429c4-c52b-4879-a9be-46580e196e23",
   "metadata": {},
   "outputs": [],
   "source": [
    "import matplotlib.pyplot as plt\n",
    "import pandas as pd\n",
    "from ipywidgets import Button, Output, Layout, ButtonStyle\n",
    "from IPython.display import display\n",
    "\n",
    "def plot_graph2():\n",
    "    df = pd.read_csv('resources/lab_data.csv')\n",
    "    plt.figure(figsize=(10, 6))\n",
    "    plt.plot(df['Glucose [g/L]'], pd.to_numeric(df['OD'], errors='coerce'), \n",
    "             marker='o', color='#EF9C66')  # Set graph color here\n",
    "    plt.title('OD vs Glucose')\n",
    "    plt.xlabel('Glucose [g/L]')\n",
    "    plt.ylabel('OD')\n",
    "    plt.grid(True)\n",
    "    plt.show()\n",
    "\n",
    "button_style = ButtonStyle(button_color='#EF9C66',  # Updated button color\n",
    "                           font_weight='bold',\n",
    "                           text_color='white')\n",
    "\n",
    "button_layout = Layout(width='220px',    # Wider button\n",
    "                       height='40px',    # Taller button\n",
    "                       border='1px solid black',  # Black border for definition\n",
    "                       margin='10px',    # Space around the button\n",
    "                       padding='5px')  \n",
    "\n",
    "button = Button(description=\"Plot OD vs Glucose\",\n",
    "                layout=button_layout,\n",
    "                style=button_style)\n",
    "\n",
    "output2 = Output()\n",
    "\n",
    "def on_button_clicked(b):\n",
    "    with output2:\n",
    "        output2.clear_output()\n",
    "        plot_graph2()\n",
    "\n",
    "button.on_click(on_button_clicked)\n",
    "display(button, output2)\n"
   ]
  }
 ],
 "metadata": {
  "kernelspec": {
   "display_name": "Python 3 (ipykernel)",
   "language": "python",
   "name": "python3"
  },
  "language_info": {
   "codemirror_mode": {
    "name": "ipython",
    "version": 3
   },
   "file_extension": ".py",
   "mimetype": "text/x-python",
   "name": "python",
   "nbconvert_exporter": "python",
   "pygments_lexer": "ipython3",
   "version": "3.11.6"
  }
 },
 "nbformat": 4,
 "nbformat_minor": 5
}
